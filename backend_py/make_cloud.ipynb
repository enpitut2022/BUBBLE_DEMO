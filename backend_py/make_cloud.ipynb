{
 "cells": [
  {
   "cell_type": "code",
   "execution_count": 30,
   "metadata": {},
   "outputs": [
    {
     "name": "stdout",
     "output_type": "stream",
     "text": [
      "Requirement already satisfied: mecab in /Users/sato-aimy/opt/anaconda3/lib/python3.9/site-packages (0.996.3)\n",
      "Requirement already satisfied: ipadic in /Users/sato-aimy/opt/anaconda3/lib/python3.9/site-packages (1.0.0)\n"
     ]
    }
   ],
   "source": [
    "!pip install mecab\n",
    "!pip install ipadic"
   ]
  },
  {
   "cell_type": "code",
   "execution_count": 31,
   "metadata": {},
   "outputs": [],
   "source": [
    "import re\n",
    "import ipadic\n",
    "import subprocess\n",
    "import unicodedata\n",
    "import pandas as pd\n",
    "import MeCab\n",
    "from wordcloud import WordCloud"
   ]
  },
  {
   "cell_type": "code",
   "execution_count": 32,
   "metadata": {},
   "outputs": [],
   "source": [
    "# データの読み込み\n",
    "df = pd.read_csv(\"./sample_data.csv\")\n",
    "# ユニコード正規化とアルファベットの小文字統一\n",
    "df.text = df.text.str.normalize(\"NFKC\").str.lower()\n",
    "# 改行コードを取り除く\n",
    "df.text = df.text.str.replace(\"\\n\", \" \")\n",
    "# エラーになる文字があるので取り除く (ライブドアニュースコーパス使う場合だけの処理。普通は不要)\n",
    "df.text = df.text.str.replace(\"\\u2028\", \"\")\n",
    "\n",
    "# 辞書のパス取得\n",
    "tagger = MeCab.Tagger(ipadic.MECAB_ARGS)\n",
    "\n",
    "# ひらがなのみの文字列にマッチする正規表現\n",
    "kana_re = re.compile(\"^[ぁ-ゖ]+$\")\n",
    "\n",
    "# 分かち書きして、ひらがな以外を含む 名詞/動詞/形容詞 を返す関数\n",
    "def mecab_tokenizer(text):\n",
    "    # 分かち書き\n",
    "    parsed_lines = tagger.parse(text).splitlines()[:-1]\n",
    "    surfaces = [l.split('\\t')[0] for l in parsed_lines]\n",
    "    features = [l.split('\\t')[1] for l in parsed_lines]\n",
    "    # 原型を取得\n",
    "    bases = [f.split(',')[6] for f in features]\n",
    "    # 品詞を取得\n",
    "    pos = [f.split(',')[0] for f in features]\n",
    "    # 各単語を原型に変換する\n",
    "    token_list = [b if b != '*' else s for s, b in zip(surfaces, bases)]\n",
    "    # 名詞/動詞/形容詞に絞り込み\n",
    "    target_pos = [\"名詞\", \"動詞\", \"形容詞\"]\n",
    "    token_list = [t for t, p in zip(token_list, pos) if (p in target_pos)]\n",
    "    # ひらがなのみの単語を除く\n",
    "    token_list = [t for t in token_list if not kana_re.match(t)]\n",
    "    # アルファベットを小文字に統一\n",
    "    token_list = [t.lower() for t in token_list]\n",
    "    # 半角スペースを挟んで結合する。\n",
    "    result = \" \".join(token_list)\n",
    "    # 念のためもう一度ユニコード正規化\n",
    "    result = unicodedata.normalize(\"NFKC\", result)\n",
    "    return result\n",
    "    "
   ]
  },
  {
   "cell_type": "code",
   "execution_count": 33,
   "metadata": {},
   "outputs": [],
   "source": [
    "# 形態素解析\n",
    "df[\"tokens\"] = df.text.apply(mecab_tokenizer)\n",
    "# wordcloud入力データ用に連結する\n",
    "text_data = \" \".join(df[\"tokens\"])\n",
    "\n",
    "# ワードクラウドのオブジェクト生成\n",
    "wc = WordCloud(\n",
    "        width=600,  # 幅\n",
    "        height=400,  # 高さ\n",
    "        prefer_horizontal=0.9,  # 横書きで配置することを試す確率 (デフォルト0.9)\n",
    "        background_color='white',  # 背景色\n",
    "        include_numbers=False,  # 数値だけの単語を含まない\n",
    "        colormap='tab20',  # 文字色のカラーマップ指定\n",
    "        regexp=r\"\\w{2,}\",  # 2文字以上の単語のみ含む\n",
    "        relative_scaling=1,  # 頻度のみで文字サイズを決める\n",
    "        collocations=False,  # bi-gramを考慮しない\n",
    "        max_font_size=60,  # 最大フォントサイズ\n",
    "        random_state=42,  # 乱数の初期値\n",
    "    ).generate(text_data)\n",
    "\n",
    "# この時点で作成できたwordcloudを確認する場合は以下の関数を実行。\n",
    "ex_text = wc.to_svg()\n",
    "ex_img = wc.to_image()\n",
    "# 出力省略\n"
   ]
  },
  {
   "cell_type": "markdown",
   "metadata": {},
   "source": []
  },
  {
   "cell_type": "code",
   "execution_count": 34,
   "metadata": {},
   "outputs": [
    {
     "data": {
      "text/plain": [
       "'<svg xmlns=\"http://www.w3.org/2000/svg\" width=\"600\" height=\"400\">\\n<style>text{font-family:\\'Droid Sans Mono\\';font-weight:normal;font-style:normal;}</style>\\n<rect width=\"100%\" height=\"100%\" style=\"fill:white\"></rect>\\n<text transform=\"translate(186,57)\" font-size=\"60\" style=\"fill:rgb(127, 127, 127)\">日本人</text>\\n<text transform=\"translate(371,94)\" font-size=\"24\" style=\"fill:rgb(127, 127, 127)\">潜伏</text>\\n<text transform=\"translate(100,285)\" font-size=\"24\" style=\"fill:rgb(174, 199, 232)\">期間</text>\\n<text transform=\"translate(407,35)\" font-size=\"24\" style=\"fill:rgb(174, 199, 232)\">発熱</text>\\n<text transform=\"translate(191,318)\" font-size=\"24\" style=\"fill:rgb(31, 119, 180)\">日本</text>\\n<text transform=\"translate(133,344)\" font-size=\"24\" style=\"fill:rgb(127, 127, 127)\">入場</text>\\n<text transform=\"translate(93,253)\" font-size=\"24\" style=\"fill:rgb(196, 156, 148)\">皆さま</text>\\n<text transform=\"translate(147,22)\" font-size=\"24\" style=\"fill:rgb(199, 199, 199)\">買う</text>\\n<text transform=\"translate(49,234)\" font-size=\"24\" style=\"fill:rgb(214, 39, 40)\">天才</text>\\n<text transform=\"translate(530,193)\" font-size=\"24\" style=\"fill:rgb(255, 127, 14)\">個人</text>\\n<text transform=\"translate(162,188)\" font-size=\"12\" style=\"fill:rgb(188, 189, 34)\">サル</text>\\n<text transform=\"translate(487,37)\" font-size=\"12\" style=\"fill:rgb(127, 127, 127)\">最大</text>\\n<text transform=\"translate(576,199)\" font-size=\"12\" style=\"fill:rgb(174, 199, 232)\">頭痛</text>\\n<text transform=\"translate(403,330)\" font-size=\"12\" style=\"fill:rgb(227, 119, 194)\">リンパ</text>\\n<text transform=\"translate(69,297)\" font-size=\"12\" style=\"fill:rgb(255, 187, 120)\">腫脹</text>\\n<text transform=\"translate(260,340)\" font-size=\"12\" style=\"fill:rgb(44, 160, 44)\">筋肉</text>\\n<text transform=\"translate(408,59)\" font-size=\"12\" style=\"fill:rgb(219, 219, 141)\">症状</text>\\n<text transform=\"translate(305,202)\" font-size=\"12\" style=\"fill:rgb(152, 223, 138)\">続く</text>\\n<text transform=\"translate(55,195)\" font-size=\"12\" style=\"fill:rgb(255, 187, 120)\">発疹</text>\\n<text transform=\"translate(164,349)\" font-size=\"12\" style=\"fill:rgb(152, 223, 138)\">出現</text>\\n<text transform=\"translate(521,341) rotate(-90)\" font-size=\"12\" style=\"fill:rgb(174, 199, 232)\">発症</text>\\n<text transform=\"translate(541,279)\" font-size=\"12\" style=\"fill:rgb(127, 127, 127)\">週間</text>\\n<text transform=\"translate(43,204)\" font-size=\"12\" style=\"fill:rgb(152, 223, 138)\">治癒</text>\\n<text transform=\"translate(582,364) rotate(-90)\" font-size=\"12\" style=\"fill:rgb(196, 156, 148)\">東京</text>\\n<text transform=\"translate(296,46)\" font-size=\"12\" style=\"fill:rgb(44, 160, 44)\">大会</text>\\n<text transform=\"translate(318,170)\" font-size=\"12\" style=\"fill:rgb(148, 103, 189)\">周年</text>\\n<text transform=\"translate(236,300)\" font-size=\"12\" style=\"fill:rgb(219, 219, 141)\">記念</text>\\n<text transform=\"translate(437,383)\" font-size=\"12\" style=\"fill:rgb(197, 176, 213)\">セレモニー</text>\\n<text transform=\"translate(415,341)\" font-size=\"12\" style=\"fill:rgb(197, 176, 213)\">代表</text>\\n<text transform=\"translate(379,139)\" font-size=\"12\" style=\"fill:rgb(127, 127, 127)\">選手</text>\\n<text transform=\"translate(562,335)\" font-size=\"12\" style=\"fill:rgb(148, 103, 189)\">パレード</text>\\n<text transform=\"translate(386,219)\" font-size=\"12\" style=\"fill:rgb(44, 160, 44)\">アスリート</text>\\n<text transform=\"translate(320,278) rotate(-90)\" font-size=\"12\" style=\"fill:rgb(197, 176, 213)\">子供</text>\\n<text transform=\"translate(183,76)\" font-size=\"12\" style=\"fill:rgb(255, 187, 120)\">混合</text>\\n<text transform=\"translate(383,382)\" font-size=\"12\" style=\"fill:rgb(148, 103, 189)\">チーム</text>\\n<text transform=\"translate(292,218)\" font-size=\"12\" style=\"fill:rgb(196, 156, 148)\">リレー</text>\\n<text transform=\"translate(160,148)\" font-size=\"12\" style=\"fill:rgb(158, 218, 229)\">ライブ</text>\\n<text transform=\"translate(343,19)\" font-size=\"12\" style=\"fill:rgb(247, 182, 210)\">パフォーマンス</text>\\n<text transform=\"translate(18,296)\" font-size=\"12\" style=\"fill:rgb(199, 199, 199)\">会場</text>\\n<text transform=\"translate(375,190)\" font-size=\"12\" style=\"fill:rgb(255, 127, 14)\">盛大</text>\\n<text transform=\"translate(289,288)\" font-size=\"12\" style=\"fill:rgb(31, 119, 180)\">盛り上がる</text>\\n<text transform=\"translate(79,152)\" font-size=\"12\" style=\"fill:rgb(158, 218, 229)\">来場</text>\\n<text transform=\"translate(411,235)\" font-size=\"12\" style=\"fill:rgb(23, 190, 207)\">youtubelive</text>\\n<text transform=\"translate(496,169)\" font-size=\"12\" style=\"fill:rgb(188, 189, 34)\">配信</text>\\n<text transform=\"translate(70,121)\" font-size=\"12\" style=\"fill:rgb(255, 187, 120)\">視聴</text>\\n<text transform=\"translate(532,308)\" font-size=\"12\" style=\"fill:rgb(158, 218, 229)\">友達</text>\\n<text transform=\"translate(307,22) rotate(-90)\" font-size=\"12\" style=\"fill:rgb(196, 156, 148)\">淡路島</text>\\n<text transform=\"translate(564,80)\" font-size=\"12\" style=\"fill:rgb(23, 190, 207)\">旅行</text>\\n<text transform=\"translate(485,178)\" font-size=\"12\" style=\"fill:rgb(44, 160, 44)\">行く</text>\\n<text transform=\"translate(337,327)\" font-size=\"12\" style=\"fill:rgb(23, 190, 207)\">最初</text>\\n<text transform=\"translate(404,280)\" font-size=\"12\" style=\"fill:rgb(188, 189, 34)\">全員</text>\\n<text transform=\"translate(79,338) rotate(-90)\" font-size=\"12\" style=\"fill:rgb(199, 199, 199)\">集める</text>\\n<text transform=\"translate(67,275)\" font-size=\"12\" style=\"fill:rgb(23, 190, 207)\">財布</text>\\n<text transform=\"translate(445,327)\" font-size=\"12\" style=\"fill:rgb(219, 219, 141)\">入れる</text>\\n<text transform=\"translate(480,129)\" font-size=\"12\" style=\"fill:rgb(23, 190, 207)\">ご飯</text>\\n<text transform=\"translate(25,125)\" font-size=\"12\" style=\"fill:rgb(127, 127, 127)\">移動</text>\\n<text transform=\"translate(230,393)\" font-size=\"12\" style=\"fill:rgb(227, 119, 194)\">使う</text>\\n<text transform=\"translate(468,325)\" font-size=\"12\" style=\"fill:rgb(197, 176, 213)\">支払う</text>\\n<text transform=\"translate(368,55)\" font-size=\"12\" style=\"fill:rgb(214, 39, 40)\">思う</text>\\n<text transform=\"translate(266,142)\" font-size=\"12\" style=\"fill:rgb(196, 156, 148)\">余る</text>\\n<text transform=\"translate(61,60)\" font-size=\"12\" style=\"fill:rgb(44, 160, 44)\">アイデア</text>\\n<text transform=\"translate(374,205) rotate(-90)\" font-size=\"12\" style=\"fill:rgb(174, 199, 232)\">ネコ</text>\\n<text transform=\"translate(262,292)\" font-size=\"12\" style=\"fill:rgb(44, 160, 44)\">トラ</text>\\n<text transform=\"translate(563,390)\" font-size=\"12\" style=\"fill:rgb(196, 156, 148)\">ライオン</text>\\n<text transform=\"translate(462,305)\" font-size=\"12\" style=\"fill:rgb(188, 189, 34)\">ヒョウ</text>\\n<text transform=\"translate(428,85)\" font-size=\"12\" style=\"fill:rgb(247, 182, 210)\">ピューマ</text>\\n<text transform=\"translate(553,264)\" font-size=\"12\" style=\"fill:rgb(197, 176, 213)\">チータ</text>\\n<text transform=\"translate(217,88)\" font-size=\"12\" style=\"fill:rgb(174, 199, 232)\">カラカル</text>\\n<text transform=\"translate(287,85)\" font-size=\"12\" style=\"fill:rgb(44, 160, 44)\">サー</text>\\n<text transform=\"translate(577,275)\" font-size=\"12\" style=\"fill:rgb(255, 127, 14)\">バル</text>\\n<text transform=\"translate(45,310)\" font-size=\"12\" style=\"fill:rgb(44, 160, 44)\">マヌル</text>\\n<text transform=\"translate(143,314) rotate(-90)\" font-size=\"12\" style=\"fill:rgb(188, 189, 34)\">イリオモテオオヤマネコ</text>\\n<text transform=\"translate(561,91)\" font-size=\"12\" style=\"fill:rgb(174, 199, 232)\">クァール</text>\\n<text transform=\"translate(261,392) rotate(-90)\" font-size=\"12\" style=\"fill:rgb(31, 119, 180)\">ゴメンチャイ</text>\\n<text transform=\"translate(356,154)\" font-size=\"12\" style=\"fill:rgb(255, 187, 120)\">寝る</text>\\n</svg>'"
      ]
     },
     "execution_count": 34,
     "metadata": {},
     "output_type": "execute_result"
    }
   ],
   "source": [
    "ex_text"
   ]
  },
  {
   "cell_type": "code",
   "execution_count": 35,
   "metadata": {},
   "outputs": [
    {
     "data": {
      "image/png": "[encoded data removed]",
      "text/plain": [
       "<PIL.Image.Image image mode=RGB size=600x400 at 0x7FD77323BA90>"
      ]
     },
     "execution_count": 35,
     "metadata": {},
     "output_type": "execute_result"
    }
   ],
   "source": [
    "ex_img"
   ]
  }
 ],
 "metadata": {
  "kernelspec": {
   "display_name": "Python 3.9.12 ('base')",
   "language": "python",
   "name": "python3"
  },
  "language_info": {
   "codemirror_mode": {
    "name": "ipython",
    "version": 3
   },
   "file_extension": ".py",
   "mimetype": "text/x-python",
   "name": "python",
   "nbconvert_exporter": "python",
   "pygments_lexer": "ipython3",
   "version": "3.9.12"
  },
  "orig_nbformat": 4,
  "vscode": {
   "interpreter": {
    "hash": "37c59007b2efae7ece77d1d257bf5dac39310acb26ad458cba64f2540b5dde3e"
   }
  }
 },
 "nbformat": 4,
 "nbformat_minor": 2
}
